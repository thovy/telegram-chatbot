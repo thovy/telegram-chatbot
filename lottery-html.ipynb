{
  "nbformat": 4,
  "nbformat_minor": 0,
  "metadata": {
    "colab": {
      "provenance": []
    },
    "kernelspec": {
      "name": "python3",
      "display_name": "Python 3"
    },
    "language_info": {
      "name": "python"
    }
  },
  "cells": [
    {
      "cell_type": "code",
      "execution_count": 1,
      "metadata": {
        "id": "yL_9znfiHbRa"
      },
      "outputs": [],
      "source": [
        "from bs4 import BeautifulSoup\n",
        "import requests"
      ]
    },
    {
      "cell_type": "code",
      "source": [
        "URL = 'https://search.naver.com/search.naver?sm=tab_hty.top&where=nexearch&query=%EB%A1%9C%EB%98%90&oquery=%EB%A1%9C%EB%8F%84&tqi=iac2VdprvTossdDT1C4ssssssJl-258211'\n",
        "res = requests.get(URL)\n",
        "soup = BeautifulSoup(res.text, 'html.parser')"
      ],
      "metadata": {
        "id": "ahwySrOsHur-"
      },
      "execution_count": 60,
      "outputs": []
    },
    {
      "cell_type": "code",
      "source": [
        "lottery = soup.select_one('#menu').text"
      ],
      "metadata": {
        "id": "wkMKBoTeITnd",
        "colab": {
          "base_uri": "https://localhost:8080/",
          "height": 173
        },
        "outputId": "ea438116-658b-436a-d73c-d72b64757cb7"
      },
      "execution_count": 35,
      "outputs": [
        {
          "output_type": "error",
          "ename": "AttributeError",
          "evalue": "ignored",
          "traceback": [
            "\u001b[0;31m---------------------------------------------------------------------------\u001b[0m",
            "\u001b[0;31mAttributeError\u001b[0m                            Traceback (most recent call last)",
            "\u001b[0;32m<ipython-input-35-3634622c8235>\u001b[0m in \u001b[0;36m<cell line: 1>\u001b[0;34m()\u001b[0m\n\u001b[0;32m----> 1\u001b[0;31m \u001b[0mlottery\u001b[0m \u001b[0;34m=\u001b[0m \u001b[0msoup\u001b[0m\u001b[0;34m.\u001b[0m\u001b[0mselect_one\u001b[0m\u001b[0;34m(\u001b[0m\u001b[0;34m'#menu'\u001b[0m\u001b[0;34m)\u001b[0m\u001b[0;34m.\u001b[0m\u001b[0mtext\u001b[0m\u001b[0;34m\u001b[0m\u001b[0;34m\u001b[0m\u001b[0m\n\u001b[0m",
            "\u001b[0;31mAttributeError\u001b[0m: 'NoneType' object has no attribute 'text'"
          ]
        }
      ]
    },
    {
      "cell_type": "code",
      "source": [
        "soup.find_all('div','win_ball')"
      ],
      "metadata": {
        "id": "UW2FR-zJJl-r",
        "colab": {
          "base_uri": "https://localhost:8080/"
        },
        "outputId": "51c603a9-7964-4653-e03a-9c3ba258d684"
      },
      "execution_count": 84,
      "outputs": [
        {
          "output_type": "execute_result",
          "data": {
            "text/plain": [
              "[<div class=\"win_ball\"> <div class=\"winning_number\"> <span class=\"ball type1\">3</span> <span class=\"ball type2\">18</span> <span class=\"ball type2\">19</span> <span class=\"ball type3\">23</span> <span class=\"ball type4\">32</span> <span class=\"ball type5\">45</span> </div> <div class=\"bonus_number\"> <span class=\"ball type3\">24</span> </div> </div>]"
            ]
          },
          "metadata": {},
          "execution_count": 84
        }
      ]
    },
    {
      "cell_type": "code",
      "source": [
        "win_numbers = soup.select_one('#main_pack > div.sc_new.cs_lotto._lotto > div > div.content_area > div > div > div:nth-child(2) > div.win_number_box > div').text"
      ],
      "metadata": {
        "id": "2H2QVuvWHr3A"
      },
      "execution_count": 88,
      "outputs": []
    },
    {
      "cell_type": "code",
      "source": [
        "win_numbers.split()"
      ],
      "metadata": {
        "colab": {
          "base_uri": "https://localhost:8080/"
        },
        "id": "OhmtMFd0VHu9",
        "outputId": "79f65ff0-1886-47ee-91a1-a71c326442ee"
      },
      "execution_count": 90,
      "outputs": [
        {
          "output_type": "execute_result",
          "data": {
            "text/plain": [
              "['3', '18', '19', '23', '32', '45', '24']"
            ]
          },
          "metadata": {},
          "execution_count": 90
        }
      ]
    },
    {
      "cell_type": "code",
      "source": [
        "no1, no2, no3, no4, no5, no6, bn = map(int, win_numbers.split())"
      ],
      "metadata": {
        "id": "mI2YSGLfVZxP"
      },
      "execution_count": 93,
      "outputs": []
    },
    {
      "cell_type": "code",
      "source": [
        "soup.find_all('')"
      ],
      "metadata": {
        "colab": {
          "base_uri": "https://localhost:8080/"
        },
        "id": "it0G0o4UVo20",
        "outputId": "52c1b68d-efd6-45ed-d3dd-4bd0ff70598f"
      },
      "execution_count": 95,
      "outputs": [
        {
          "output_type": "execute_result",
          "data": {
            "text/plain": [
              "[]"
            ]
          },
          "metadata": {},
          "execution_count": 95
        }
      ]
    },
    {
      "cell_type": "code",
      "source": [
        "prize = soup.find_all('strong', 'emphasis')\n",
        "prize"
      ],
      "metadata": {
        "colab": {
          "base_uri": "https://localhost:8080/"
        },
        "id": "hm59jjaQV4Ov",
        "outputId": "543b22cd-2854-42b2-84a6-30866e79cf6e"
      },
      "execution_count": 102,
      "outputs": [
        {
          "output_type": "execute_result",
          "data": {
            "text/plain": [
              "[<strong class=\"emphasis\">1,852,593,938</strong>]"
            ]
          },
          "metadata": {},
          "execution_count": 102
        }
      ]
    },
    {
      "cell_type": "code",
      "source": [
        "prize = soup.select_one('#main_pack > div.sc_new.cs_lotto._lotto > div > div.content_area > div > div > div:nth-child(2) > div.win_number_box > p > strong').text\n",
        "prize"
      ],
      "metadata": {
        "colab": {
          "base_uri": "https://localhost:8080/",
          "height": 35
        },
        "id": "YzEqBMVFWKe5",
        "outputId": "bf793851-dda3-4296-b558-5adb0a9704d2"
      },
      "execution_count": 105,
      "outputs": [
        {
          "output_type": "execute_result",
          "data": {
            "text/plain": [
              "'1,852,593,938'"
            ],
            "application/vnd.google.colaboratory.intrinsic+json": {
              "type": "string"
            }
          },
          "metadata": {},
          "execution_count": 105
        }
      ]
    },
    {
      "cell_type": "code",
      "source": [
        "https://www.dhlottery.co.kr/common.do?method=getLottoNumber&drwNo=1065"
      ],
      "metadata": {
        "id": "cBTSsX9dXFIv"
      },
      "execution_count": 105,
      "outputs": []
    },
    {
      "cell_type": "code",
      "source": [],
      "metadata": {
        "id": "y5UwrjDEXFLG"
      },
      "execution_count": 105,
      "outputs": []
    },
    {
      "cell_type": "code",
      "source": [],
      "metadata": {
        "id": "rRHGhO1TXFOE"
      },
      "execution_count": null,
      "outputs": []
    }
  ]
}