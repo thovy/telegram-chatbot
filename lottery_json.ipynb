{
  "nbformat": 4,
  "nbformat_minor": 0,
  "metadata": {
    "colab": {
      "provenance": []
    },
    "kernelspec": {
      "name": "python3",
      "display_name": "Python 3"
    },
    "language_info": {
      "name": "python"
    }
  },
  "cells": [
    {
      "cell_type": "code",
      "execution_count": 1,
      "metadata": {
        "id": "yL_9znfiHbRa"
      },
      "outputs": [],
      "source": [
        "from bs4 import BeautifulSoup\n",
        "import requests"
      ]
    },
    {
      "cell_type": "code",
      "source": [
        "URL = 'https://www.dhlottery.co.kr/common.do?method=getLottoNumber&drwNo=1065'\n",
        "res = requests.get(URL)\n",
        "print(type(res.text), type(res.json()))"
      ],
      "metadata": {
        "id": "ahwySrOsHur-",
        "colab": {
          "base_uri": "https://localhost:8080/"
        },
        "outputId": "f9741998-672f-4a26-a3da-18caf0f36b48"
      },
      "execution_count": 106,
      "outputs": [
        {
          "output_type": "stream",
          "name": "stdout",
          "text": [
            "<class 'str'> <class 'dict'>\n"
          ]
        }
      ]
    },
    {
      "cell_type": "code",
      "source": [
        "print(\n",
        "    res.json()['drwtNo1'],\n",
        "    res.json()['drwtNo2'],\n",
        "    res.json()['drwtNo3'],\n",
        "    res.json()['drwtNo4'],\n",
        "    res.json()['drwtNo5'],\n",
        "    res.json()['drwtNo6'],\n",
        "    )"
      ],
      "metadata": {
        "colab": {
          "base_uri": "https://localhost:8080/"
        },
        "id": "dM55Xn2baCFC",
        "outputId": "3e85ea29-7309-4529-a152-8b2495b6c922"
      },
      "execution_count": 113,
      "outputs": [
        {
          "output_type": "stream",
          "name": "stdout",
          "text": [
            "3 18 19 23 32 45\n"
          ]
        }
      ]
    },
    {
      "cell_type": "code",
      "source": [
        "print( res.json()[f'drwtNo{i}'] for i in range(1,7) )\n",
        "# 안되넹.."
      ],
      "metadata": {
        "colab": {
          "base_uri": "https://localhost:8080/"
        },
        "id": "pbB6k4rTbFX8",
        "outputId": "5131105f-0abe-496e-afe1-a610bcb168ee"
      },
      "execution_count": 121,
      "outputs": [
        {
          "output_type": "stream",
          "name": "stdout",
          "text": [
            "<generator object <genexpr> at 0x7fbdda146730>\n"
          ]
        }
      ]
    },
    {
      "cell_type": "code",
      "source": [
        "for i in range(1,7):\n",
        "  print( res.json()[f'drwtNo{i}'])"
      ],
      "metadata": {
        "colab": {
          "base_uri": "https://localhost:8080/"
        },
        "id": "y5UwrjDEXFLG",
        "outputId": "dce4b4ab-f4ae-4419-f06d-e0c36f3c370f"
      },
      "execution_count": 122,
      "outputs": [
        {
          "output_type": "stream",
          "name": "stdout",
          "text": [
            "3\n",
            "18\n",
            "19\n",
            "23\n",
            "32\n",
            "45\n"
          ]
        }
      ]
    },
    {
      "cell_type": "code",
      "source": [],
      "metadata": {
        "id": "rRHGhO1TXFOE"
      },
      "execution_count": null,
      "outputs": []
    }
  ]
}